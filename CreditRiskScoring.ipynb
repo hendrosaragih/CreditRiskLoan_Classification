{
  "nbformat": 4,
  "nbformat_minor": 0,
  "metadata": {
    "interpreter": {
      "hash": "c03b6a3db68ff8378d234886d1a6d29d3080604bf4689c9ef07b0fd3acd74509"
    },
    "kernelspec": {
      "display_name": "Python 3 (ipykernel)",
      "language": "python",
      "name": "python3"
    },
    "language_info": {
      "codemirror_mode": {
        "name": "ipython",
        "version": 3
      },
      "file_extension": ".py",
      "mimetype": "text/x-python",
      "name": "python",
      "nbconvert_exporter": "python",
      "pygments_lexer": "ipython3",
      "version": "3.8.11"
    },
    "colab": {
      "name": "CreditRiskScoring.ipynb",
      "provenance": [],
      "collapsed_sections": []
    }
  },
  "cells": [
    {
      "cell_type": "markdown",
      "metadata": {
        "id": "fuDCxt2bYBff"
      },
      "source": [
        "## IMPORT LIBRARY AND LOAD DATASET"
      ]
    },
    {
      "cell_type": "code",
      "metadata": {
        "id": "unRW6QwKyX27"
      },
      "source": [
        "# %pip install fancyimpute\n",
        "import pandas as pd\n",
        "import numpy as np\n",
        "from sklearn import preprocessing\n",
        "from fancyimpute import KNN\n",
        "import seaborn as sns\n",
        "from sklearn.model_selection import GridSearchCV, cross_val_score\n",
        "from sklearn.metrics import cohen_kappa_score, make_scorer\n",
        "from sklearn.neighbors import KNeighborsClassifier\n",
        "from sklearn.metrics import confusion_matrix\n",
        "from sklearn.naive_bayes import GaussianNB\n",
        "from sklearn.tree import DecisionTreeClassifier\n",
        "from sklearn.metrics import recall_score\n",
        "from sklearn.metrics import accuracy_score\n",
        "from sklearn import tree\n",
        "from sklearn.pipeline import Pipeline"
      ],
      "execution_count": null,
      "outputs": []
    },
    {
      "cell_type": "code",
      "metadata": {
        "id": "99G9VzU-0qiP"
      },
      "source": [
        "# upload the data \n",
        "# from google.colab import files\n",
        "# uploaded = files.upload()\n",
        "\n",
        "train=pd.read_csv(\"train.csv\")\n",
        "test=pd.read_csv(\"test.csv\")"
      ],
      "execution_count": null,
      "outputs": []
    },
    {
      "cell_type": "code",
      "metadata": {
        "id": "RhZk6-R41DJa",
        "colab": {
          "base_uri": "https://localhost:8080/",
          "height": 200
        },
        "outputId": "ccd2ef71-dee8-48da-bbef-23df34afabeb"
      },
      "source": [
        "train.head()"
      ],
      "execution_count": null,
      "outputs": [
        {
          "output_type": "execute_result",
          "data": {
            "text/html": [
              "<div>\n",
              "<style scoped>\n",
              "    .dataframe tbody tr th:only-of-type {\n",
              "        vertical-align: middle;\n",
              "    }\n",
              "\n",
              "    .dataframe tbody tr th {\n",
              "        vertical-align: top;\n",
              "    }\n",
              "\n",
              "    .dataframe thead th {\n",
              "        text-align: right;\n",
              "    }\n",
              "</style>\n",
              "<table border=\"1\" class=\"dataframe\">\n",
              "  <thead>\n",
              "    <tr style=\"text-align: right;\">\n",
              "      <th></th>\n",
              "      <th>customer_id</th>\n",
              "      <th>customer_bod</th>\n",
              "      <th>gender</th>\n",
              "      <th>phone_flag</th>\n",
              "      <th>student</th>\n",
              "      <th>employment</th>\n",
              "      <th>credit_card</th>\n",
              "      <th>balance</th>\n",
              "      <th>income</th>\n",
              "      <th>tenure</th>\n",
              "      <th>default</th>\n",
              "    </tr>\n",
              "  </thead>\n",
              "  <tbody>\n",
              "    <tr>\n",
              "      <th>0</th>\n",
              "      <td>8300</td>\n",
              "      <td>1993-08-17</td>\n",
              "      <td>Female</td>\n",
              "      <td>1.0</td>\n",
              "      <td>No</td>\n",
              "      <td>Self Employed</td>\n",
              "      <td>1.0</td>\n",
              "      <td>87104.12</td>\n",
              "      <td>5015120.75</td>\n",
              "      <td>4yrs 4mon</td>\n",
              "      <td>0</td>\n",
              "    </tr>\n",
              "    <tr>\n",
              "      <th>1</th>\n",
              "      <td>672</td>\n",
              "      <td>2007-12-17</td>\n",
              "      <td>Female</td>\n",
              "      <td>1.0</td>\n",
              "      <td>Yes</td>\n",
              "      <td>NaN</td>\n",
              "      <td>0.0</td>\n",
              "      <td>89236.34</td>\n",
              "      <td>2266076.58</td>\n",
              "      <td>4yrs 1mon</td>\n",
              "      <td>0</td>\n",
              "    </tr>\n",
              "    <tr>\n",
              "      <th>2</th>\n",
              "      <td>5670</td>\n",
              "      <td>2000-02-05</td>\n",
              "      <td>Female</td>\n",
              "      <td>1.0</td>\n",
              "      <td>Yes</td>\n",
              "      <td>NaN</td>\n",
              "      <td>0.0</td>\n",
              "      <td>171553.12</td>\n",
              "      <td>1779347.34</td>\n",
              "      <td>0yrs 9mon</td>\n",
              "      <td>0</td>\n",
              "    </tr>\n",
              "    <tr>\n",
              "      <th>3</th>\n",
              "      <td>2975</td>\n",
              "      <td>1999-11-16</td>\n",
              "      <td>Female</td>\n",
              "      <td>1.0</td>\n",
              "      <td>Yes</td>\n",
              "      <td>NaN</td>\n",
              "      <td>0.0</td>\n",
              "      <td>85979.04</td>\n",
              "      <td>2014246.24</td>\n",
              "      <td>1yrs 8mon</td>\n",
              "      <td>0</td>\n",
              "    </tr>\n",
              "    <tr>\n",
              "      <th>4</th>\n",
              "      <td>3883</td>\n",
              "      <td>1977-08-18</td>\n",
              "      <td>Male</td>\n",
              "      <td>1.0</td>\n",
              "      <td>No</td>\n",
              "      <td>Salaried</td>\n",
              "      <td>0.0</td>\n",
              "      <td>48874.77</td>\n",
              "      <td>5445148.31</td>\n",
              "      <td>0yrs 10mon</td>\n",
              "      <td>0</td>\n",
              "    </tr>\n",
              "  </tbody>\n",
              "</table>\n",
              "</div>"
            ],
            "text/plain": [
              "   customer_id customer_bod  gender  ...      income      tenure default\n",
              "0         8300   1993-08-17  Female  ...  5015120.75   4yrs 4mon       0\n",
              "1          672   2007-12-17  Female  ...  2266076.58   4yrs 1mon       0\n",
              "2         5670   2000-02-05  Female  ...  1779347.34   0yrs 9mon       0\n",
              "3         2975   1999-11-16  Female  ...  2014246.24   1yrs 8mon       0\n",
              "4         3883   1977-08-18    Male  ...  5445148.31  0yrs 10mon       0\n",
              "\n",
              "[5 rows x 11 columns]"
            ]
          },
          "metadata": {},
          "execution_count": 3
        }
      ]
    },
    {
      "cell_type": "code",
      "metadata": {
        "id": "2goaS77q1FTs"
      },
      "source": [
        "#Loan ID is dropped because it is not required\n",
        "train=train.drop([\"customer_id\"],axis=1)\n",
        "test=test.drop([\"customer_id\"],axis=1)"
      ],
      "execution_count": null,
      "outputs": []
    },
    {
      "cell_type": "markdown",
      "metadata": {
        "id": "hrQSQnnbYO40"
      },
      "source": [
        "## PREPROCESSING THE DATASET"
      ]
    },
    {
      "cell_type": "code",
      "metadata": {
        "id": "Uw2k8p9K1cqf",
        "colab": {
          "base_uri": "https://localhost:8080/"
        },
        "outputId": "5e0b42d7-40e1-4e58-a86e-9ce6156611f8"
      },
      "source": [
        "print(train.isnull().sum())"
      ],
      "execution_count": null,
      "outputs": [
        {
          "output_type": "stream",
          "name": "stdout",
          "text": [
            "customer_bod      0\n",
            "gender          308\n",
            "phone_flag        0\n",
            "student           0\n",
            "employment      992\n",
            "credit_card      11\n",
            "balance           0\n",
            "income            0\n",
            "tenure            0\n",
            "default           0\n",
            "dtype: int64\n"
          ]
        }
      ]
    },
    {
      "cell_type": "code",
      "metadata": {
        "id": "D2dLEgW03Lnh",
        "colab": {
          "base_uri": "https://localhost:8080/"
        },
        "outputId": "64cbe4e0-1b55-43f7-c4f3-ace8a136c121"
      },
      "source": [
        "train.info()"
      ],
      "execution_count": null,
      "outputs": [
        {
          "output_type": "stream",
          "name": "stdout",
          "text": [
            "<class 'pandas.core.frame.DataFrame'>\n",
            "RangeIndex: 3693 entries, 0 to 3692\n",
            "Data columns (total 10 columns):\n",
            " #   Column        Non-Null Count  Dtype  \n",
            "---  ------        --------------  -----  \n",
            " 0   customer_bod  3693 non-null   object \n",
            " 1   gender        3385 non-null   object \n",
            " 2   phone_flag    3693 non-null   float64\n",
            " 3   student       3693 non-null   object \n",
            " 4   employment    2701 non-null   object \n",
            " 5   credit_card   3682 non-null   float64\n",
            " 6   balance       3693 non-null   float64\n",
            " 7   income        3693 non-null   float64\n",
            " 8   tenure        3693 non-null   object \n",
            " 9   default       3693 non-null   int64  \n",
            "dtypes: float64(4), int64(1), object(5)\n",
            "memory usage: 288.6+ KB\n"
          ]
        }
      ]
    },
    {
      "cell_type": "code",
      "metadata": {
        "id": "CnPE8wwv4bCn",
        "colab": {
          "base_uri": "https://localhost:8080/"
        },
        "outputId": "39723fe1-c5ef-44d7-8a2a-69b68ddf476c"
      },
      "source": [
        "# fill the missing values for categorical terms - mode\n",
        "train['gender'] = train[\"gender\"].fillna(train['gender'].mode()[0])\n",
        "train['employment'] = train[\"employment\"].fillna(train['employment'].mode()[0])\n",
        "train['credit_card'] = train[\"credit_card\"].fillna(train['credit_card'].mode()[0])\n",
        "\n",
        "train.isnull().sum()"
      ],
      "execution_count": null,
      "outputs": [
        {
          "output_type": "execute_result",
          "data": {
            "text/plain": [
              "customer_bod    0\n",
              "gender          0\n",
              "phone_flag      0\n",
              "student         0\n",
              "employment      0\n",
              "credit_card     0\n",
              "balance         0\n",
              "income          0\n",
              "tenure          0\n",
              "default         0\n",
              "dtype: int64"
            ]
          },
          "metadata": {},
          "execution_count": 7
        }
      ]
    },
    {
      "cell_type": "markdown",
      "metadata": {
        "id": "CWUqjVAVYhWL"
      },
      "source": [
        "## EXPLORATORY DATA ANALYSIS"
      ]
    },
    {
      "cell_type": "code",
      "metadata": {
        "colab": {
          "base_uri": "https://localhost:8080/",
          "height": 347
        },
        "id": "djRmUopNYkah",
        "outputId": "3f908eb5-425c-4f2c-b909-495e863b780c"
      },
      "source": [
        "# categorical attributes visualization\n",
        "sns.countplot(train['gender'])"
      ],
      "execution_count": null,
      "outputs": [
        {
          "output_type": "stream",
          "name": "stderr",
          "text": [
            "/usr/local/lib/python3.7/dist-packages/seaborn/_decorators.py:43: FutureWarning: Pass the following variable as a keyword arg: x. From version 0.12, the only valid positional argument will be `data`, and passing other arguments without an explicit keyword will result in an error or misinterpretation.\n",
            "  FutureWarning\n"
          ]
        },
        {
          "output_type": "execute_result",
          "data": {
            "text/plain": [
              "<matplotlib.axes._subplots.AxesSubplot at 0x7fea3b150190>"
            ]
          },
          "metadata": {},
          "execution_count": 8
        },
        {
          "output_type": "display_data",
          "data": {
            "image/png": "[encoded data removed]",
            "text/plain": [
              "<Figure size 432x288 with 1 Axes>"
            ]
          },
          "metadata": {
            "needs_background": "light"
          }
        }
      ]
    },
    {
      "cell_type": "code",
      "metadata": {
        "colab": {
          "base_uri": "https://localhost:8080/",
          "height": 348
        },
        "id": "6uTag5u0YkiO",
        "outputId": "ec4e41c2-37a0-4bc2-f958-b2c1e0b6b551"
      },
      "source": [
        "sns.countplot(train['phone_flag'])"
      ],
      "execution_count": null,
      "outputs": [
        {
          "output_type": "stream",
          "name": "stderr",
          "text": [
            "/usr/local/lib/python3.7/dist-packages/seaborn/_decorators.py:43: FutureWarning: Pass the following variable as a keyword arg: x. From version 0.12, the only valid positional argument will be `data`, and passing other arguments without an explicit keyword will result in an error or misinterpretation.\n",
            "  FutureWarning\n"
          ]
        },
        {
          "output_type": "execute_result",
          "data": {
            "text/plain": [
              "<matplotlib.axes._subplots.AxesSubplot at 0x7fea3989d890>"
            ]
          },
          "metadata": {},
          "execution_count": 9
        },
        {
          "output_type": "display_data",
          "data": {
            "image/png": "[encoded data removed]",
            "text/plain": [
              "<Figure size 432x288 with 1 Axes>"
            ]
          },
          "metadata": {
            "needs_background": "light"
          }
        }
      ]
    },
    {
      "cell_type": "code",
      "metadata": {
        "colab": {
          "base_uri": "https://localhost:8080/",
          "height": 348
        },
        "id": "JIn47M6EYklS",
        "outputId": "ec2ac2f3-f36c-4f6b-e3f0-1454f7250c38"
      },
      "source": [
        "sns.countplot(train['phone_flag'])"
      ],
      "execution_count": null,
      "outputs": [
        {
          "output_type": "stream",
          "name": "stderr",
          "text": [
            "/usr/local/lib/python3.7/dist-packages/seaborn/_decorators.py:43: FutureWarning: Pass the following variable as a keyword arg: x. From version 0.12, the only valid positional argument will be `data`, and passing other arguments without an explicit keyword will result in an error or misinterpretation.\n",
            "  FutureWarning\n"
          ]
        },
        {
          "output_type": "execute_result",
          "data": {
            "text/plain": [
              "<matplotlib.axes._subplots.AxesSubplot at 0x7fea392cb190>"
            ]
          },
          "metadata": {},
          "execution_count": 10
        },
        {
          "output_type": "display_data",
          "data": {
            "image/png": "[encoded data removed]",
            "text/plain": [
              "<Figure size 432x288 with 1 Axes>"
            ]
          },
          "metadata": {
            "needs_background": "light"
          }
        }
      ]
    },
    {
      "cell_type": "code",
      "metadata": {
        "colab": {
          "base_uri": "https://localhost:8080/",
          "height": 347
        },
        "id": "6xdFvspXYksx",
        "outputId": "4f09380e-8bf2-44a1-b5ec-deeac10eeb91"
      },
      "source": [
        "sns.countplot(train['student'])"
      ],
      "execution_count": null,
      "outputs": [
        {
          "output_type": "stream",
          "name": "stderr",
          "text": [
            "/usr/local/lib/python3.7/dist-packages/seaborn/_decorators.py:43: FutureWarning: Pass the following variable as a keyword arg: x. From version 0.12, the only valid positional argument will be `data`, and passing other arguments without an explicit keyword will result in an error or misinterpretation.\n",
            "  FutureWarning\n"
          ]
        },
        {
          "output_type": "execute_result",
          "data": {
            "text/plain": [
              "<matplotlib.axes._subplots.AxesSubplot at 0x7fea39228950>"
            ]
          },
          "metadata": {},
          "execution_count": 11
        },
        {
          "output_type": "display_data",
          "data": {
            "image/png": "[encoded data removed]",
            "text/plain": [
              "<Figure size 432x288 with 1 Axes>"
            ]
          },
          "metadata": {
            "needs_background": "light"
          }
        }
      ]
    },
    {
      "cell_type": "code",
      "metadata": {
        "colab": {
          "base_uri": "https://localhost:8080/",
          "height": 348
        },
        "id": "-8rcemDmY2bS",
        "outputId": "0ca3b9c6-2afa-4ce6-e93c-a01aa5fc6d31"
      },
      "source": [
        "sns.countplot(train['credit_card'])"
      ],
      "execution_count": null,
      "outputs": [
        {
          "output_type": "stream",
          "name": "stderr",
          "text": [
            "/usr/local/lib/python3.7/dist-packages/seaborn/_decorators.py:43: FutureWarning: Pass the following variable as a keyword arg: x. From version 0.12, the only valid positional argument will be `data`, and passing other arguments without an explicit keyword will result in an error or misinterpretation.\n",
            "  FutureWarning\n"
          ]
        },
        {
          "output_type": "execute_result",
          "data": {
            "text/plain": [
              "<matplotlib.axes._subplots.AxesSubplot at 0x7fea391f80d0>"
            ]
          },
          "metadata": {},
          "execution_count": 12
        },
        {
          "output_type": "display_data",
          "data": {
            "image/png": "[encoded data removed]",
            "text/plain": [
              "<Figure size 432x288 with 1 Axes>"
            ]
          },
          "metadata": {
            "needs_background": "light"
          }
        }
      ]
    },
    {
      "cell_type": "code",
      "metadata": {
        "colab": {
          "base_uri": "https://localhost:8080/",
          "height": 358
        },
        "id": "Esd9y70WY2eJ",
        "outputId": "6a33aa2e-28b8-4c07-e10f-dac8e45dd58f"
      },
      "source": [
        "sns.distplot(train[\"balance\"])"
      ],
      "execution_count": null,
      "outputs": [
        {
          "output_type": "stream",
          "name": "stderr",
          "text": [
            "/usr/local/lib/python3.7/dist-packages/seaborn/distributions.py:2619: FutureWarning: `distplot` is a deprecated function and will be removed in a future version. Please adapt your code to use either `displot` (a figure-level function with similar flexibility) or `histplot` (an axes-level function for histograms).\n",
            "  warnings.warn(msg, FutureWarning)\n"
          ]
        },
        {
          "output_type": "execute_result",
          "data": {
            "text/plain": [
              "<matplotlib.axes._subplots.AxesSubplot at 0x7fea39e2cad0>"
            ]
          },
          "metadata": {},
          "execution_count": 13
        },
        {
          "output_type": "display_data",
          "data": {
            "image/png": "[encoded data removed]",
            "text/plain": [
              "<Figure size 432x288 with 1 Axes>"
            ]
          },
          "metadata": {
            "needs_background": "light"
          }
        }
      ]
    },
    {
      "cell_type": "code",
      "metadata": {
        "colab": {
          "base_uri": "https://localhost:8080/",
          "height": 358
        },
        "id": "eG7oM9ASY2hP",
        "outputId": "cb23792f-0855-4b17-df67-e2014a8830fe"
      },
      "source": [
        "sns.distplot(train[\"income\"])"
      ],
      "execution_count": null,
      "outputs": [
        {
          "output_type": "stream",
          "name": "stderr",
          "text": [
            "/usr/local/lib/python3.7/dist-packages/seaborn/distributions.py:2619: FutureWarning: `distplot` is a deprecated function and will be removed in a future version. Please adapt your code to use either `displot` (a figure-level function with similar flexibility) or `histplot` (an axes-level function for histograms).\n",
            "  warnings.warn(msg, FutureWarning)\n"
          ]
        },
        {
          "output_type": "execute_result",
          "data": {
            "text/plain": [
              "<matplotlib.axes._subplots.AxesSubplot at 0x7fea35e06f10>"
            ]
          },
          "metadata": {},
          "execution_count": 14
        },
        {
          "output_type": "display_data",
          "data": {
            "image/png": "[encoded data removed]",
            "text/plain": [
              "<Figure size 432x288 with 1 Axes>"
            ]
          },
          "metadata": {
            "needs_background": "light"
          }
        }
      ]
    },
    {
      "cell_type": "code",
      "metadata": {
        "colab": {
          "base_uri": "https://localhost:8080/",
          "height": 200
        },
        "id": "VSLRwPeCY2mN",
        "outputId": "a1e31f80-0330-4502-ab13-89b734e3d6b1"
      },
      "source": [
        "train.head()"
      ],
      "execution_count": null,
      "outputs": [
        {
          "output_type": "execute_result",
          "data": {
            "text/html": [
              "<div>\n",
              "<style scoped>\n",
              "    .dataframe tbody tr th:only-of-type {\n",
              "        vertical-align: middle;\n",
              "    }\n",
              "\n",
              "    .dataframe tbody tr th {\n",
              "        vertical-align: top;\n",
              "    }\n",
              "\n",
              "    .dataframe thead th {\n",
              "        text-align: right;\n",
              "    }\n",
              "</style>\n",
              "<table border=\"1\" class=\"dataframe\">\n",
              "  <thead>\n",
              "    <tr style=\"text-align: right;\">\n",
              "      <th></th>\n",
              "      <th>customer_bod</th>\n",
              "      <th>gender</th>\n",
              "      <th>phone_flag</th>\n",
              "      <th>student</th>\n",
              "      <th>employment</th>\n",
              "      <th>credit_card</th>\n",
              "      <th>balance</th>\n",
              "      <th>income</th>\n",
              "      <th>tenure</th>\n",
              "      <th>default</th>\n",
              "    </tr>\n",
              "  </thead>\n",
              "  <tbody>\n",
              "    <tr>\n",
              "      <th>0</th>\n",
              "      <td>1993-08-17</td>\n",
              "      <td>Female</td>\n",
              "      <td>1.0</td>\n",
              "      <td>No</td>\n",
              "      <td>Self Employed</td>\n",
              "      <td>1.0</td>\n",
              "      <td>87104.12</td>\n",
              "      <td>5015120.75</td>\n",
              "      <td>4yrs 4mon</td>\n",
              "      <td>0</td>\n",
              "    </tr>\n",
              "    <tr>\n",
              "      <th>1</th>\n",
              "      <td>2007-12-17</td>\n",
              "      <td>Female</td>\n",
              "      <td>1.0</td>\n",
              "      <td>Yes</td>\n",
              "      <td>Salaried</td>\n",
              "      <td>0.0</td>\n",
              "      <td>89236.34</td>\n",
              "      <td>2266076.58</td>\n",
              "      <td>4yrs 1mon</td>\n",
              "      <td>0</td>\n",
              "    </tr>\n",
              "    <tr>\n",
              "      <th>2</th>\n",
              "      <td>2000-02-05</td>\n",
              "      <td>Female</td>\n",
              "      <td>1.0</td>\n",
              "      <td>Yes</td>\n",
              "      <td>Salaried</td>\n",
              "      <td>0.0</td>\n",
              "      <td>171553.12</td>\n",
              "      <td>1779347.34</td>\n",
              "      <td>0yrs 9mon</td>\n",
              "      <td>0</td>\n",
              "    </tr>\n",
              "    <tr>\n",
              "      <th>3</th>\n",
              "      <td>1999-11-16</td>\n",
              "      <td>Female</td>\n",
              "      <td>1.0</td>\n",
              "      <td>Yes</td>\n",
              "      <td>Salaried</td>\n",
              "      <td>0.0</td>\n",
              "      <td>85979.04</td>\n",
              "      <td>2014246.24</td>\n",
              "      <td>1yrs 8mon</td>\n",
              "      <td>0</td>\n",
              "    </tr>\n",
              "    <tr>\n",
              "      <th>4</th>\n",
              "      <td>1977-08-18</td>\n",
              "      <td>Male</td>\n",
              "      <td>1.0</td>\n",
              "      <td>No</td>\n",
              "      <td>Salaried</td>\n",
              "      <td>0.0</td>\n",
              "      <td>48874.77</td>\n",
              "      <td>5445148.31</td>\n",
              "      <td>0yrs 10mon</td>\n",
              "      <td>0</td>\n",
              "    </tr>\n",
              "  </tbody>\n",
              "</table>\n",
              "</div>"
            ],
            "text/plain": [
              "  customer_bod  gender  phone_flag  ...      income      tenure  default\n",
              "0   1993-08-17  Female         1.0  ...  5015120.75   4yrs 4mon        0\n",
              "1   2007-12-17  Female         1.0  ...  2266076.58   4yrs 1mon        0\n",
              "2   2000-02-05  Female         1.0  ...  1779347.34   0yrs 9mon        0\n",
              "3   1999-11-16  Female         1.0  ...  2014246.24   1yrs 8mon        0\n",
              "4   1977-08-18    Male         1.0  ...  5445148.31  0yrs 10mon        0\n",
              "\n",
              "[5 rows x 10 columns]"
            ]
          },
          "metadata": {},
          "execution_count": 15
        }
      ]
    },
    {
      "cell_type": "markdown",
      "metadata": {
        "id": "Ow8Uaz9iZFIj"
      },
      "source": [
        "## LOG TRANSFORMATION "
      ]
    },
    {
      "cell_type": "code",
      "metadata": {
        "colab": {
          "base_uri": "https://localhost:8080/",
          "height": 347
        },
        "id": "CM6T9afOZEX1",
        "outputId": "944c47b6-2fdd-4fe2-e50d-b4ca10058d59"
      },
      "source": [
        "train['income'] = np.log(train['income']+1)\n",
        "sns.distplot(train[\"income\"])"
      ],
      "execution_count": null,
      "outputs": [
        {
          "output_type": "stream",
          "name": "stderr",
          "text": [
            "/usr/local/lib/python3.7/dist-packages/seaborn/distributions.py:2619: FutureWarning: `distplot` is a deprecated function and will be removed in a future version. Please adapt your code to use either `displot` (a figure-level function with similar flexibility) or `histplot` (an axes-level function for histograms).\n",
            "  warnings.warn(msg, FutureWarning)\n"
          ]
        },
        {
          "output_type": "execute_result",
          "data": {
            "text/plain": [
              "<matplotlib.axes._subplots.AxesSubplot at 0x7fea35d28950>"
            ]
          },
          "metadata": {},
          "execution_count": 16
        },
        {
          "output_type": "display_data",
          "data": {
            "image/png": "[encoded data removed]",
            "text/plain": [
              "<Figure size 432x288 with 1 Axes>"
            ]
          },
          "metadata": {
            "needs_background": "light"
          }
        }
      ]
    },
    {
      "cell_type": "code",
      "metadata": {
        "colab": {
          "base_uri": "https://localhost:8080/",
          "height": 347
        },
        "id": "vYOh-FkkZEd2",
        "outputId": "696174b9-08b9-4370-8567-c0ea25baa87c"
      },
      "source": [
        "train['balance'] = np.log(train['balance']+1)\n",
        "sns.distplot(train[\"balance\"])"
      ],
      "execution_count": null,
      "outputs": [
        {
          "output_type": "stream",
          "name": "stderr",
          "text": [
            "/usr/local/lib/python3.7/dist-packages/seaborn/distributions.py:2619: FutureWarning: `distplot` is a deprecated function and will be removed in a future version. Please adapt your code to use either `displot` (a figure-level function with similar flexibility) or `histplot` (an axes-level function for histograms).\n",
            "  warnings.warn(msg, FutureWarning)\n"
          ]
        },
        {
          "output_type": "execute_result",
          "data": {
            "text/plain": [
              "<matplotlib.axes._subplots.AxesSubplot at 0x7fea35c0ee10>"
            ]
          },
          "metadata": {},
          "execution_count": 17
        },
        {
          "output_type": "display_data",
          "data": {
            "image/png": "[encoded data removed]",
            "text/plain": [
              "<Figure size 432x288 with 1 Axes>"
            ]
          },
          "metadata": {
            "needs_background": "light"
          }
        }
      ]
    },
    {
      "cell_type": "markdown",
      "metadata": {
        "id": "X7pPHJPvZPDf"
      },
      "source": [
        "## CORRELATION MATRIX"
      ]
    },
    {
      "cell_type": "code",
      "metadata": {
        "colab": {
          "base_uri": "https://localhost:8080/",
          "height": 331
        },
        "id": "OdR1McjrZEgz",
        "outputId": "5198f80c-a30b-40f9-c8ee-ceca1dcef636"
      },
      "source": [
        "import matplotlib as plt\n",
        "\n",
        "corr = train.corr()\n",
        "plt.figure.Figure(figsize=(15,10))\n",
        "sns.heatmap(corr, annot = True, cmap=\"BuPu\")"
      ],
      "execution_count": null,
      "outputs": [
        {
          "output_type": "execute_result",
          "data": {
            "text/plain": [
              "<matplotlib.axes._subplots.AxesSubplot at 0x7fea35b86210>"
            ]
          },
          "metadata": {},
          "execution_count": 18
        },
        {
          "output_type": "display_data",
          "data": {
            "image/png": "[encoded data removed]",
            "text/plain": [
              "<Figure size 432x288 with 2 Axes>"
            ]
          },
          "metadata": {
            "needs_background": "light"
          }
        }
      ]
    },
    {
      "cell_type": "code",
      "metadata": {
        "id": "f-EqUjKN5k-Z"
      },
      "source": [
        "from sklearn.preprocessing import LabelEncoder\n",
        "cols = ['customer_bod','gender','phone_flag','student','employment','credit_card','tenure']\n",
        "le = LabelEncoder()\n",
        "for col in cols:\n",
        "    train[col] = le.fit_transform(train[col])"
      ],
      "execution_count": null,
      "outputs": []
    },
    {
      "cell_type": "code",
      "metadata": {
        "id": "A1_7dq_26aAX"
      },
      "source": [
        "#Credit History and Loan Amount Term are categorical variables\n",
        "train[\"credit_card\"]=train[\"credit_card\"].astype(\"object\")"
      ],
      "execution_count": null,
      "outputs": []
    },
    {
      "cell_type": "code",
      "metadata": {
        "id": "r4pVz-pQ5Onk"
      },
      "source": [
        "#KNN imputation\n",
        "#Assigning levels to the categories\n",
        "lis = []\n",
        "for i in range(0, train.shape[1]):\n",
        "    if(train.iloc[:,i].dtypes == 'object'):\n",
        "        train.iloc[:,i] = pd.Categorical(train.iloc[:,i])\n",
        "        train.iloc[:,i] = train.iloc[:,i].cat.codes \n",
        "        train.iloc[:,i] = train.iloc[:,i].astype('object')\n",
        "        lis.append(train.columns[i])"
      ],
      "execution_count": null,
      "outputs": []
    },
    {
      "cell_type": "code",
      "metadata": {
        "id": "xQGaGm6A7q4i"
      },
      "source": [
        "#replace -1 with NA to impute\n",
        "for i in range(0, train.shape[1]):\n",
        "    train.iloc[:,i] = train.iloc[:,i].replace(-1, np.nan) "
      ],
      "execution_count": null,
      "outputs": []
    },
    {
      "cell_type": "code",
      "metadata": {
        "id": "0WB0J7ZY737z",
        "colab": {
          "base_uri": "https://localhost:8080/"
        },
        "outputId": "704e74ce-650b-41b9-e4c4-bd098a3e29f2"
      },
      "source": [
        "#Apply KNN imputation algorithm\n",
        "train = pd.DataFrame(KNN(k = 3).fit_transform(train), columns = train.columns)"
      ],
      "execution_count": null,
      "outputs": [
        {
          "output_type": "stream",
          "name": "stderr",
          "text": [
            "/usr/local/lib/python3.7/dist-packages/fancyimpute/solver.py:55: UserWarning: Input matrix is not missing any values\n",
            "  warnings.warn(\"Input matrix is not missing any values\")\n"
          ]
        },
        {
          "output_type": "stream",
          "name": "stdout",
          "text": [
            "Imputing row 1/3693 with 0 missing, elapsed time: 2.419\n",
            "Imputing row 101/3693 with 0 missing, elapsed time: 2.420\n",
            "Imputing row 201/3693 with 0 missing, elapsed time: 2.420\n",
            "Imputing row 301/3693 with 0 missing, elapsed time: 2.420\n",
            "Imputing row 401/3693 with 0 missing, elapsed time: 2.421\n",
            "Imputing row 501/3693 with 0 missing, elapsed time: 2.422\n",
            "Imputing row 601/3693 with 0 missing, elapsed time: 2.422\n",
            "Imputing row 701/3693 with 0 missing, elapsed time: 2.422\n",
            "Imputing row 801/3693 with 0 missing, elapsed time: 2.423\n",
            "Imputing row 901/3693 with 0 missing, elapsed time: 2.423\n",
            "Imputing row 1001/3693 with 0 missing, elapsed time: 2.423\n",
            "Imputing row 1101/3693 with 0 missing, elapsed time: 2.424\n",
            "Imputing row 1201/3693 with 0 missing, elapsed time: 2.424\n",
            "Imputing row 1301/3693 with 0 missing, elapsed time: 2.424\n",
            "Imputing row 1401/3693 with 0 missing, elapsed time: 2.425\n",
            "Imputing row 1501/3693 with 0 missing, elapsed time: 2.425\n",
            "Imputing row 1601/3693 with 0 missing, elapsed time: 2.425\n",
            "Imputing row 1701/3693 with 0 missing, elapsed time: 2.426\n",
            "Imputing row 1801/3693 with 0 missing, elapsed time: 2.426\n",
            "Imputing row 1901/3693 with 0 missing, elapsed time: 2.427\n",
            "Imputing row 2001/3693 with 0 missing, elapsed time: 2.427\n",
            "Imputing row 2101/3693 with 0 missing, elapsed time: 2.427\n",
            "Imputing row 2201/3693 with 0 missing, elapsed time: 2.428\n",
            "Imputing row 2301/3693 with 0 missing, elapsed time: 2.428\n",
            "Imputing row 2401/3693 with 0 missing, elapsed time: 2.428\n",
            "Imputing row 2501/3693 with 0 missing, elapsed time: 2.429\n",
            "Imputing row 2601/3693 with 0 missing, elapsed time: 2.429\n",
            "Imputing row 2701/3693 with 0 missing, elapsed time: 2.429\n",
            "Imputing row 2801/3693 with 0 missing, elapsed time: 2.430\n",
            "Imputing row 2901/3693 with 0 missing, elapsed time: 2.430\n",
            "Imputing row 3001/3693 with 0 missing, elapsed time: 2.430\n",
            "Imputing row 3101/3693 with 0 missing, elapsed time: 2.431\n",
            "Imputing row 3201/3693 with 0 missing, elapsed time: 2.431\n",
            "Imputing row 3301/3693 with 0 missing, elapsed time: 2.432\n",
            "Imputing row 3401/3693 with 0 missing, elapsed time: 2.432\n",
            "Imputing row 3501/3693 with 0 missing, elapsed time: 2.432\n",
            "Imputing row 3601/3693 with 0 missing, elapsed time: 2.433\n"
          ]
        }
      ]
    },
    {
      "cell_type": "code",
      "metadata": {
        "id": "30dJBN5r8psv"
      },
      "source": [
        "#Convert into proper datatypes\n",
        "for i in lis:\n",
        "    train.loc[:,i] = train.loc[:,i].round()\n",
        "    train.loc[:,i] = train.loc[:,i].astype('object')"
      ],
      "execution_count": null,
      "outputs": []
    },
    {
      "cell_type": "code",
      "metadata": {
        "id": "wiDz4Lin9Xnu",
        "colab": {
          "base_uri": "https://localhost:8080/",
          "height": 200
        },
        "outputId": "de48a908-d26c-4d5a-d1ec-ed4e56e9317f"
      },
      "source": [
        "train.head()"
      ],
      "execution_count": null,
      "outputs": [
        {
          "output_type": "execute_result",
          "data": {
            "text/html": [
              "<div>\n",
              "<style scoped>\n",
              "    .dataframe tbody tr th:only-of-type {\n",
              "        vertical-align: middle;\n",
              "    }\n",
              "\n",
              "    .dataframe tbody tr th {\n",
              "        vertical-align: top;\n",
              "    }\n",
              "\n",
              "    .dataframe thead th {\n",
              "        text-align: right;\n",
              "    }\n",
              "</style>\n",
              "<table border=\"1\" class=\"dataframe\">\n",
              "  <thead>\n",
              "    <tr style=\"text-align: right;\">\n",
              "      <th></th>\n",
              "      <th>customer_bod</th>\n",
              "      <th>gender</th>\n",
              "      <th>phone_flag</th>\n",
              "      <th>student</th>\n",
              "      <th>employment</th>\n",
              "      <th>credit_card</th>\n",
              "      <th>balance</th>\n",
              "      <th>income</th>\n",
              "      <th>tenure</th>\n",
              "      <th>default</th>\n",
              "    </tr>\n",
              "  </thead>\n",
              "  <tbody>\n",
              "    <tr>\n",
              "      <th>0</th>\n",
              "      <td>1155.0</td>\n",
              "      <td>0.0</td>\n",
              "      <td>1.0</td>\n",
              "      <td>0.0</td>\n",
              "      <td>1.0</td>\n",
              "      <td>1</td>\n",
              "      <td>11.374871</td>\n",
              "      <td>15.427968</td>\n",
              "      <td>51.0</td>\n",
              "      <td>0.0</td>\n",
              "    </tr>\n",
              "    <tr>\n",
              "      <th>1</th>\n",
              "      <td>2752.0</td>\n",
              "      <td>0.0</td>\n",
              "      <td>1.0</td>\n",
              "      <td>1.0</td>\n",
              "      <td>0.0</td>\n",
              "      <td>0</td>\n",
              "      <td>11.399055</td>\n",
              "      <td>14.633561</td>\n",
              "      <td>48.0</td>\n",
              "      <td>0.0</td>\n",
              "    </tr>\n",
              "    <tr>\n",
              "      <th>2</th>\n",
              "      <td>2005.0</td>\n",
              "      <td>0.0</td>\n",
              "      <td>1.0</td>\n",
              "      <td>1.0</td>\n",
              "      <td>0.0</td>\n",
              "      <td>0</td>\n",
              "      <td>12.052654</td>\n",
              "      <td>14.391758</td>\n",
              "      <td>8.0</td>\n",
              "      <td>0.0</td>\n",
              "    </tr>\n",
              "    <tr>\n",
              "      <th>3</th>\n",
              "      <td>1971.0</td>\n",
              "      <td>0.0</td>\n",
              "      <td>1.0</td>\n",
              "      <td>1.0</td>\n",
              "      <td>0.0</td>\n",
              "      <td>0</td>\n",
              "      <td>11.361870</td>\n",
              "      <td>14.515756</td>\n",
              "      <td>19.0</td>\n",
              "      <td>0.0</td>\n",
              "    </tr>\n",
              "    <tr>\n",
              "      <th>4</th>\n",
              "      <td>153.0</td>\n",
              "      <td>1.0</td>\n",
              "      <td>1.0</td>\n",
              "      <td>0.0</td>\n",
              "      <td>0.0</td>\n",
              "      <td>0</td>\n",
              "      <td>10.797037</td>\n",
              "      <td>15.510236</td>\n",
              "      <td>1.0</td>\n",
              "      <td>0.0</td>\n",
              "    </tr>\n",
              "  </tbody>\n",
              "</table>\n",
              "</div>"
            ],
            "text/plain": [
              "   customer_bod  gender  phone_flag  ...     income  tenure default\n",
              "0        1155.0     0.0         1.0  ...  15.427968    51.0     0.0\n",
              "1        2752.0     0.0         1.0  ...  14.633561    48.0     0.0\n",
              "2        2005.0     0.0         1.0  ...  14.391758     8.0     0.0\n",
              "3        1971.0     0.0         1.0  ...  14.515756    19.0     0.0\n",
              "4         153.0     1.0         1.0  ...  15.510236     1.0     0.0\n",
              "\n",
              "[5 rows x 10 columns]"
            ]
          },
          "metadata": {},
          "execution_count": 25
        }
      ]
    },
    {
      "cell_type": "code",
      "metadata": {
        "id": "Hx23coJJ9Zft",
        "colab": {
          "base_uri": "https://localhost:8080/",
          "height": 285
        },
        "outputId": "ee4cdc62-4882-4479-d743-e11bb01bf7e2"
      },
      "source": [
        "#Checking correlation between continuous variable\n",
        "numvar=[\"balance\",\"income\"]\n",
        "df_corr = train.loc[:,numvar]\n",
        "sns.heatmap(df_corr.corr(), annot = True, fmt='.2g',cmap= 'coolwarm')"
      ],
      "execution_count": null,
      "outputs": [
        {
          "output_type": "execute_result",
          "data": {
            "text/plain": [
              "<matplotlib.axes._subplots.AxesSubplot at 0x7fea2d20f5d0>"
            ]
          },
          "metadata": {},
          "execution_count": 26
        },
        {
          "output_type": "display_data",
          "data": {
            "image/png": "[encoded data removed]",
            "text/plain": [
              "<Figure size 432x288 with 2 Axes>"
            ]
          },
          "metadata": {
            "needs_background": "light"
          }
        }
      ]
    },
    {
      "cell_type": "code",
      "metadata": {
        "id": "7MDqqpW--nlb"
      },
      "source": [
        "#Standardizing the numerical variables\n",
        "train[\"balance\"]= (train[\"balance\"] - train[\"balance\"].mean())/train[\"balance\"].std()\n",
        "train[\"income\"]= (train[\"income\"] - train[\"income\"].mean())/train[\"income\"].std()"
      ],
      "execution_count": null,
      "outputs": []
    },
    {
      "cell_type": "code",
      "metadata": {
        "id": "IzCEuyo5_rGh"
      },
      "source": [
        "X=train.drop([\"default\"],axis=1)\n",
        "Y=train[\"default\"]\n",
        "Y=Y.astype(int)\n",
        "x=np.array(X)\n",
        "y=np.array(Y)"
      ],
      "execution_count": null,
      "outputs": []
    },
    {
      "cell_type": "code",
      "metadata": {
        "id": "6lPC-u3cvWkE",
        "colab": {
          "base_uri": "https://localhost:8080/"
        },
        "outputId": "2bf3ebdd-5ad6-4bb5-b791-94f0a571e4dc"
      },
      "source": [
        "decisiontree = tree.DecisionTreeClassifier()\n",
        "pipe = Pipeline(steps=[('decisiontree', decisiontree)])\n",
        "criterion = ['gini', 'entropy']\n",
        "max_depth = list(range(1,20))\n",
        "parameters = dict(decisiontree__criterion=criterion,decisiontree__max_depth=max_depth)\n",
        "dt = GridSearchCV(pipe, parameters,cv=5,scoring=\"f1\", n_jobs=-1)\n",
        "dt.fit(x,y)\n",
        "scores = cross_val_score(dt, x, y,scoring=\"f1\", cv=5)\n",
        "print(\"DT Cross validation f1 score: {0:.2%} (+/- {1:.2%})\".format(np.mean(scores), np.std(scores)*2))"
      ],
      "execution_count": null,
      "outputs": [
        {
          "output_type": "stream",
          "name": "stdout",
          "text": [
            "DT Cross validation f1 score: 63.62% (+/- 10.81%)\n"
          ]
        }
      ]
    },
    {
      "cell_type": "code",
      "metadata": {
        "id": "DsJAGylhGKOE",
        "colab": {
          "base_uri": "https://localhost:8080/"
        },
        "outputId": "f1fb97d3-a837-4d24-c687-f58f31ba9040"
      },
      "source": [
        "#Naive Bayes\n",
        "parameters = {'priors':[[0.01, 0.99],[0.1, 0.9], [0.2, 0.8], [0.25, 0.75], [0.3, 0.7],[0.35, 0.65], [0.4, 0.6],[0.45,0.55],[0.5,0.5],[0.55,0.45],[0.6,0.4]]}\n",
        "nb = GridSearchCV(GaussianNB(), parameters, scoring = 'f1', n_jobs=-1)\n",
        "nb.fit(x, y)\n",
        "scores = cross_val_score(nb, x, y,scoring = 'f1', cv=5)\n",
        "print(\"NB Cross validation F1 score: {0:.2%} (+/- {1:.2%})\".format(np.mean(scores), np.std(scores)*2))"
      ],
      "execution_count": null,
      "outputs": [
        {
          "output_type": "stream",
          "name": "stdout",
          "text": [
            "NB Cross validation F1 score: 36.13% (+/- 4.21%)\n"
          ]
        }
      ]
    },
    {
      "cell_type": "code",
      "metadata": {
        "colab": {
          "base_uri": "https://localhost:8080/"
        },
        "id": "ynqthN8kbmMZ",
        "outputId": "1d6ae5cf-2878-4652-c308-77bbbda30af2"
      },
      "source": [
        "number_of_neighbors = range(1,20)\n",
        "params = {'n_neighbors':number_of_neighbors}\n",
        "knn = KNeighborsClassifier()\n",
        "knnmodel = GridSearchCV(knn, params, cv=5,scoring=\"f1\", n_jobs=-1)\n",
        "knnmodel.fit(x,y)\n",
        "scores = cross_val_score(knnmodel, x, y,scoring=\"f1\", cv=5)\n",
        "print(\"KNN Cross validation f1 score: {0:.2%} (+/- {1:.2%})\".format(np.mean(scores), np.std(scores)*2))"
      ],
      "execution_count": null,
      "outputs": [
        {
          "output_type": "stream",
          "name": "stdout",
          "text": [
            "KNN Cross validation f1 score: 9.23% (+/- 4.98%)\n"
          ]
        }
      ]
    },
    {
      "cell_type": "markdown",
      "metadata": {
        "id": "nU6VgeKFWvXv"
      },
      "source": [
        "IMPLEMENT FOR THE TEST DATA"
      ]
    },
    {
      "cell_type": "code",
      "metadata": {
        "id": "LakEE5DlMJxI"
      },
      "source": [
        "test[\"credit_card\"]=test[\"credit_card\"].astype(\"object\")"
      ],
      "execution_count": null,
      "outputs": []
    },
    {
      "cell_type": "code",
      "metadata": {
        "id": "LrBB7BbdOcPQ"
      },
      "source": [
        "#KNN imputation\n",
        "#Assigning levels to the categories\n",
        "lis = []\n",
        "for i in range(0, test.shape[1]):\n",
        "    if(test.iloc[:,i].dtypes == 'object'):\n",
        "        test.iloc[:,i] = pd.Categorical(test.iloc[:,i])\n",
        "        test.iloc[:,i] = test.iloc[:,i].cat.codes \n",
        "        test.iloc[:,i] = test.iloc[:,i].astype('object')\n",
        "        lis.append(test.columns[i])"
      ],
      "execution_count": null,
      "outputs": []
    },
    {
      "cell_type": "code",
      "metadata": {
        "id": "A8eclRvZOmp8"
      },
      "source": [
        "#replace -1 with NA to impute\n",
        "for i in range(0, test.shape[1]):\n",
        "    test.iloc[:,i] = test.iloc[:,i].replace(-1, np.nan) "
      ],
      "execution_count": null,
      "outputs": []
    },
    {
      "cell_type": "code",
      "metadata": {
        "id": "6gzLzUuBOn4w",
        "colab": {
          "base_uri": "https://localhost:8080/"
        },
        "outputId": "5310600a-e42e-403c-9999-a52b583ba795"
      },
      "source": [
        "#Apply KNN imputation algorithm\n",
        "test = pd.DataFrame(KNN(k = 3).fit_transform(test), columns = test.columns)"
      ],
      "execution_count": null,
      "outputs": [
        {
          "output_type": "stream",
          "name": "stdout",
          "text": [
            "Imputing row 1/307 with 0 missing, elapsed time: 0.025\n",
            "Imputing row 101/307 with 2 missing, elapsed time: 0.028\n",
            "Imputing row 201/307 with 0 missing, elapsed time: 0.030\n",
            "Imputing row 301/307 with 0 missing, elapsed time: 0.032\n"
          ]
        }
      ]
    },
    {
      "cell_type": "code",
      "metadata": {
        "id": "_Ojx_WpNOwgw"
      },
      "source": [
        "#Convert into proper datatypes\n",
        "for i in lis:\n",
        "    test.loc[:,i] = test.loc[:,i].round()\n",
        "    test.loc[:,i] = test.loc[:,i].astype('object')"
      ],
      "execution_count": null,
      "outputs": []
    },
    {
      "cell_type": "code",
      "metadata": {
        "id": "brEuPTBCO4gK"
      },
      "source": [
        "test[\"balance\"]= (test[\"balance\"] - test[\"balance\"].mean())/test[\"balance\"].std()\n",
        "test[\"income\"]= (test[\"income\"] - test[\"income\"].mean())/test[\"income\"].std()"
      ],
      "execution_count": null,
      "outputs": []
    },
    {
      "cell_type": "code",
      "metadata": {
        "id": "gnEnu2x9PC0c"
      },
      "source": [
        "x=np.array(test)"
      ],
      "execution_count": null,
      "outputs": []
    },
    {
      "cell_type": "code",
      "metadata": {
        "id": "OivkPwvuczn7"
      },
      "source": [
        "#Prediction\n",
        "ypred=dt.predict(x)"
      ],
      "execution_count": null,
      "outputs": []
    },
    {
      "cell_type": "code",
      "metadata": {
        "id": "wdLh1C18czsy"
      },
      "source": [
        "test=pd.read_csv(\"test.csv\")\n",
        "test[\"default\"]=ypred"
      ],
      "execution_count": null,
      "outputs": []
    },
    {
      "cell_type": "code",
      "metadata": {
        "id": "2Uzi2ZImdHDI"
      },
      "source": [
        "dict = {0 : '0', 1: '1'} "
      ],
      "execution_count": null,
      "outputs": []
    },
    {
      "cell_type": "markdown",
      "metadata": {
        "id": "X0QBNwlZRfqX"
      },
      "source": [
        "1: Y\n",
        "0: N"
      ]
    },
    {
      "cell_type": "code",
      "metadata": {
        "id": "WnxuC94WSE54"
      },
      "source": [
        "test['default']= test['default'].map(dict) "
      ],
      "execution_count": null,
      "outputs": []
    },
    {
      "cell_type": "code",
      "metadata": {
        "id": "u--o7jlxSJ5c",
        "colab": {
          "base_uri": "https://localhost:8080/"
        },
        "outputId": "aa3e2c8e-b200-4da9-d42f-b7f8630aef61"
      },
      "source": [
        "test.columns"
      ],
      "execution_count": null,
      "outputs": [
        {
          "output_type": "execute_result",
          "data": {
            "text/plain": [
              "Index(['customer_id', 'customer_bod', 'gender', 'phone_flag', 'student',\n",
              "       'employment', 'credit_card', 'balance', 'income', 'tenure', 'default'],\n",
              "      dtype='object')"
            ]
          },
          "metadata": {},
          "execution_count": 48
        }
      ]
    },
    {
      "cell_type": "code",
      "metadata": {
        "id": "47hsfdxwSNij"
      },
      "source": [
        "test=test.drop(['customer_bod',\t'gender',\t'phone_flag',\t'student',\t'employment',\t'credit_card',\t'balance',\t'income',\t'tenure'],axis=1)"
      ],
      "execution_count": null,
      "outputs": []
    },
    {
      "cell_type": "code",
      "metadata": {
        "id": "sa5Lf_8vSW-s",
        "colab": {
          "base_uri": "https://localhost:8080/",
          "height": 200
        },
        "outputId": "4bdb60c6-70d0-4e0a-c083-89a937eef3c3"
      },
      "source": [
        "test.head()"
      ],
      "execution_count": null,
      "outputs": [
        {
          "output_type": "execute_result",
          "data": {
            "text/html": [
              "<div>\n",
              "<style scoped>\n",
              "    .dataframe tbody tr th:only-of-type {\n",
              "        vertical-align: middle;\n",
              "    }\n",
              "\n",
              "    .dataframe tbody tr th {\n",
              "        vertical-align: top;\n",
              "    }\n",
              "\n",
              "    .dataframe thead th {\n",
              "        text-align: right;\n",
              "    }\n",
              "</style>\n",
              "<table border=\"1\" class=\"dataframe\">\n",
              "  <thead>\n",
              "    <tr style=\"text-align: right;\">\n",
              "      <th></th>\n",
              "      <th>customer_id</th>\n",
              "      <th>default</th>\n",
              "    </tr>\n",
              "  </thead>\n",
              "  <tbody>\n",
              "    <tr>\n",
              "      <th>0</th>\n",
              "      <td>9365</td>\n",
              "      <td>0</td>\n",
              "    </tr>\n",
              "    <tr>\n",
              "      <th>1</th>\n",
              "      <td>999</td>\n",
              "      <td>0</td>\n",
              "    </tr>\n",
              "    <tr>\n",
              "      <th>2</th>\n",
              "      <td>2835</td>\n",
              "      <td>0</td>\n",
              "    </tr>\n",
              "    <tr>\n",
              "      <th>3</th>\n",
              "      <td>5821</td>\n",
              "      <td>0</td>\n",
              "    </tr>\n",
              "    <tr>\n",
              "      <th>4</th>\n",
              "      <td>2330</td>\n",
              "      <td>0</td>\n",
              "    </tr>\n",
              "  </tbody>\n",
              "</table>\n",
              "</div>"
            ],
            "text/plain": [
              "   customer_id default\n",
              "0         9365       0\n",
              "1          999       0\n",
              "2         2835       0\n",
              "3         5821       0\n",
              "4         2330       0"
            ]
          },
          "metadata": {},
          "execution_count": 50
        }
      ]
    },
    {
      "cell_type": "code",
      "metadata": {
        "id": "e7Xjp40QTf81",
        "colab": {
          "base_uri": "https://localhost:8080/",
          "height": 17
        },
        "outputId": "2b20ff8a-ac8a-4a36-fadf-2fd5a423e987"
      },
      "source": [
        "from google.colab import files\n",
        "a = test.to_csv('submissionfinal.csv',encoding='utf-8', index=False)\n",
        "\n",
        "files.download('submissionfinal.csv')"
      ],
      "execution_count": null,
      "outputs": [
        {
          "output_type": "display_data",
          "data": {
            "application/javascript": [
              "\n",
              "    async function download(id, filename, size) {\n",
              "      if (!google.colab.kernel.accessAllowed) {\n",
              "        return;\n",
              "      }\n",
              "      const div = document.createElement('div');\n",
              "      const label = document.createElement('label');\n",
              "      label.textContent = `Downloading \"${filename}\": `;\n",
              "      div.appendChild(label);\n",
              "      const progress = document.createElement('progress');\n",
              "      progress.max = size;\n",
              "      div.appendChild(progress);\n",
              "      document.body.appendChild(div);\n",
              "\n",
              "      const buffers = [];\n",
              "      let downloaded = 0;\n",
              "\n",
              "      const channel = await google.colab.kernel.comms.open(id);\n",
              "      // Send a message to notify the kernel that we're ready.\n",
              "      channel.send({})\n",
              "\n",
              "      for await (const message of channel.messages) {\n",
              "        // Send a message to notify the kernel that we're ready.\n",
              "        channel.send({})\n",
              "        if (message.buffers) {\n",
              "          for (const buffer of message.buffers) {\n",
              "            buffers.push(buffer);\n",
              "            downloaded += buffer.byteLength;\n",
              "            progress.value = downloaded;\n",
              "          }\n",
              "        }\n",
              "      }\n",
              "      const blob = new Blob(buffers, {type: 'application/binary'});\n",
              "      const a = document.createElement('a');\n",
              "      a.href = window.URL.createObjectURL(blob);\n",
              "      a.download = filename;\n",
              "      div.appendChild(a);\n",
              "      a.click();\n",
              "      div.remove();\n",
              "    }\n",
              "  "
            ],
            "text/plain": [
              "<IPython.core.display.Javascript object>"
            ]
          },
          "metadata": {}
        },
        {
          "output_type": "display_data",
          "data": {
            "application/javascript": [
              "download(\"download_e27a4fda-2cce-4831-9d75-c0fd0cee7391\", \"submissionfinal.csv\", 2121)"
            ],
            "text/plain": [
              "<IPython.core.display.Javascript object>"
            ]
          },
          "metadata": {}
        }
      ]
    },
    {
      "cell_type": "code",
      "metadata": {
        "id": "gSJMY-RlvWkf"
      },
      "source": [
        ""
      ],
      "execution_count": null,
      "outputs": []
    }
  ]
}